{
  "nbformat": 4,
  "nbformat_minor": 0,
  "metadata": {
    "colab": {
      "name": "fish_freshness.ipynb",
      "provenance": [],
      "collapsed_sections": [],
      "authorship_tag": "ABX9TyOrCo3x0KfJdpcQFInprnu+",
      "include_colab_link": true
    },
    "kernelspec": {
      "name": "python3",
      "display_name": "Python 3"
    }
  },
  "cells": [
    {
      "cell_type": "markdown",
      "metadata": {
        "id": "view-in-github",
        "colab_type": "text"
      },
      "source": [
        "<a href=\"https://colab.research.google.com/github/AnguillaJaponica/FishQuolity/blob/main/fish_freshness.ipynb\" target=\"_parent\"><img src=\"https://colab.research.google.com/assets/colab-badge.svg\" alt=\"Open In Colab\"/></a>"
      ]
    },
    {
      "cell_type": "markdown",
      "metadata": {
        "id": "JPPNclE2dnvn"
      },
      "source": [
        "## 機械学習を使って魚の鮮度を考え抜く\n",
        "\n",
        "[1. 記述統計](#explore) <br>\n",
        "> [1.1 データを眺める](#prelim_explore) <br>\n",
        "   [1.2 数値型のカラムを読む](#explore_num_columns) <br>\n",
        "   [1.3 カテゴリカラムを読む](#explore_cat_columns)  <br>\n",
        "\n",
        "[2. データのクリーニングと前処理](#data_clean)\n",
        "> [2.1 欠損値のハンドリング](#fix_nans) <br>\n",
        "   [2.2 外れ値を読む](#address_outliers)<br>\n",
        "   [2.3 歪度を減らす](#transform_skew) <br>\n",
        "\n",
        "[3. 特徴量の選定](#feature_eng)\n",
        "\n",
        "[4. モデル作成](#algorithms)\n",
        "\n",
        "[5. モデルの選定とチューニング](#fine_tune)\n",
        "\n",
        "(#TODO: aタグつけて、各箇所に飛べるようにする)\n"
      ]
    },
    {
      "cell_type": "code",
      "metadata": {
        "id": "u4IBDiUPz_g6"
      },
      "source": [
        "# コアモジュール\n",
        "import pandas as pd\n",
        "import numpy as np\n",
        "\n",
        "# データの可視化\n",
        "import matplotlib.pyplot as plt\n",
        "import seaborn as sns\n",
        "%matplotlib inline"
      ],
      "execution_count": null,
      "outputs": []
    },
    {
      "cell_type": "code",
      "metadata": {
        "id": "_lmMTxwpzzFP",
        "colab": {
          "base_uri": "https://localhost:8080/"
        },
        "outputId": "d41bf1c1-7a8d-4376-cbb3-c419f1ceb034"
      },
      "source": [
        "# google driveをマウント。ファイルを置く場所に応じて、ディレクトリを変えてください。今はルートになってます。\n",
        "from google.colab import drive\n",
        "drive.mount('/content/drive')\n",
        "fish_data = pd.read_csv('drive/My Drive/freshness_prediction.csv', encoding=\"utf-8\")"
      ],
      "execution_count": null,
      "outputs": [
        {
          "output_type": "stream",
          "text": [
            "Mounted at /content/drive\n"
          ],
          "name": "stdout"
        }
      ]
    },
    {
      "cell_type": "code",
      "metadata": {
        "id": "KtBwe3cJ3oBP",
        "colab": {
          "base_uri": "https://localhost:8080/",
          "height": 204
        },
        "outputId": "7bc62339-6c32-4019-c2b7-eead08d33cfc"
      },
      "source": [
        "# fish_name: 魚種名(学名)\n",
        "# storage_temperature: 貯蔵温度\n",
        "# K0: 非常に新鮮な魚肉のk値\n",
        "# Tt: t℃ 保存における刺身としての許容日数\n",
        "# K2: 刺身として食せる許容(限界)のK値,Tt\n",
        "# K_dash: 現時点でのk値\n",
        "# RVD: 魚肉の生可食限界値\n",
        "\n",
        "fish_data.head()"
      ],
      "execution_count": null,
      "outputs": [
        {
          "output_type": "execute_result",
          "data": {
            "text/html": [
              "<div>\n",
              "<style scoped>\n",
              "    .dataframe tbody tr th:only-of-type {\n",
              "        vertical-align: middle;\n",
              "    }\n",
              "\n",
              "    .dataframe tbody tr th {\n",
              "        vertical-align: top;\n",
              "    }\n",
              "\n",
              "    .dataframe thead th {\n",
              "        text-align: right;\n",
              "    }\n",
              "</style>\n",
              "<table border=\"1\" class=\"dataframe\">\n",
              "  <thead>\n",
              "    <tr style=\"text-align: right;\">\n",
              "      <th></th>\n",
              "      <th>id</th>\n",
              "      <th>fish_name</th>\n",
              "      <th>storage_temperature</th>\n",
              "      <th>K0</th>\n",
              "      <th>Tt</th>\n",
              "      <th>K2</th>\n",
              "      <th>K_dash</th>\n",
              "      <th>RVD</th>\n",
              "    </tr>\n",
              "  </thead>\n",
              "  <tbody>\n",
              "    <tr>\n",
              "      <th>0</th>\n",
              "      <td>1</td>\n",
              "      <td>Pagrus major</td>\n",
              "      <td>-10.0</td>\n",
              "      <td>5.5</td>\n",
              "      <td>40.0</td>\n",
              "      <td>20</td>\n",
              "      <td>15</td>\n",
              "      <td>15.0</td>\n",
              "    </tr>\n",
              "    <tr>\n",
              "      <th>1</th>\n",
              "      <td>2</td>\n",
              "      <td>Pagrus major</td>\n",
              "      <td>-2.0</td>\n",
              "      <td>4.8</td>\n",
              "      <td>23.0</td>\n",
              "      <td>20</td>\n",
              "      <td>15</td>\n",
              "      <td>7.5</td>\n",
              "    </tr>\n",
              "    <tr>\n",
              "      <th>2</th>\n",
              "      <td>3</td>\n",
              "      <td>Pagrus major</td>\n",
              "      <td>0.0</td>\n",
              "      <td>6.5</td>\n",
              "      <td>10.0</td>\n",
              "      <td>20</td>\n",
              "      <td>15</td>\n",
              "      <td>3.9</td>\n",
              "    </tr>\n",
              "    <tr>\n",
              "      <th>3</th>\n",
              "      <td>4</td>\n",
              "      <td>Pagrus major</td>\n",
              "      <td>0.0</td>\n",
              "      <td>6.7</td>\n",
              "      <td>5.0</td>\n",
              "      <td>20</td>\n",
              "      <td>15</td>\n",
              "      <td>1.8</td>\n",
              "    </tr>\n",
              "    <tr>\n",
              "      <th>4</th>\n",
              "      <td>5</td>\n",
              "      <td>Pagrus major</td>\n",
              "      <td>0.0</td>\n",
              "      <td>0.5</td>\n",
              "      <td>420.0</td>\n",
              "      <td>20</td>\n",
              "      <td>15</td>\n",
              "      <td>108.0</td>\n",
              "    </tr>\n",
              "  </tbody>\n",
              "</table>\n",
              "</div>"
            ],
            "text/plain": [
              "   id     fish_name  storage_temperature   K0     Tt  K2  K_dash    RVD\n",
              "0   1  Pagrus major                -10.0  5.5   40.0  20      15   15.0\n",
              "1   2  Pagrus major                 -2.0  4.8   23.0  20      15    7.5\n",
              "2   3  Pagrus major                  0.0  6.5   10.0  20      15    3.9\n",
              "3   4  Pagrus major                  0.0  6.7    5.0  20      15    1.8\n",
              "4   5  Pagrus major                  0.0  0.5  420.0  20      15  108.0"
            ]
          },
          "metadata": {
            "tags": []
          },
          "execution_count": 24
        }
      ]
    },
    {
      "cell_type": "code",
      "metadata": {
        "colab": {
          "base_uri": "https://localhost:8080/",
          "height": 204
        },
        "id": "foviuAM2DGZW",
        "outputId": "cae34c33-d1b4-4e5d-cf20-d60c3b8edef0"
      },
      "source": [
        "fish_data.tail()"
      ],
      "execution_count": null,
      "outputs": [
        {
          "output_type": "execute_result",
          "data": {
            "text/html": [
              "<div>\n",
              "<style scoped>\n",
              "    .dataframe tbody tr th:only-of-type {\n",
              "        vertical-align: middle;\n",
              "    }\n",
              "\n",
              "    .dataframe tbody tr th {\n",
              "        vertical-align: top;\n",
              "    }\n",
              "\n",
              "    .dataframe thead th {\n",
              "        text-align: right;\n",
              "    }\n",
              "</style>\n",
              "<table border=\"1\" class=\"dataframe\">\n",
              "  <thead>\n",
              "    <tr style=\"text-align: right;\">\n",
              "      <th></th>\n",
              "      <th>id</th>\n",
              "      <th>fish_name</th>\n",
              "      <th>storage_temperature</th>\n",
              "      <th>K0</th>\n",
              "      <th>Tt</th>\n",
              "      <th>K2</th>\n",
              "      <th>K_dash</th>\n",
              "      <th>RVD</th>\n",
              "    </tr>\n",
              "  </thead>\n",
              "  <tbody>\n",
              "    <tr>\n",
              "      <th>82</th>\n",
              "      <td>83</td>\n",
              "      <td>Katuwonus pelamis</td>\n",
              "      <td>0.5</td>\n",
              "      <td>4.0</td>\n",
              "      <td>5.7</td>\n",
              "      <td>35</td>\n",
              "      <td>30</td>\n",
              "      <td>1.00</td>\n",
              "    </tr>\n",
              "    <tr>\n",
              "      <th>83</th>\n",
              "      <td>84</td>\n",
              "      <td>Katuwonus pelamis</td>\n",
              "      <td>5.0</td>\n",
              "      <td>22.0</td>\n",
              "      <td>1.8</td>\n",
              "      <td>35</td>\n",
              "      <td>30</td>\n",
              "      <td>0.70</td>\n",
              "    </tr>\n",
              "    <tr>\n",
              "      <th>84</th>\n",
              "      <td>85</td>\n",
              "      <td>Katuwonus pelamis</td>\n",
              "      <td>5.0</td>\n",
              "      <td>25.0</td>\n",
              "      <td>1.9</td>\n",
              "      <td>35</td>\n",
              "      <td>30</td>\n",
              "      <td>0.80</td>\n",
              "    </tr>\n",
              "    <tr>\n",
              "      <th>85</th>\n",
              "      <td>86</td>\n",
              "      <td>Katuwonus pelamis</td>\n",
              "      <td>10.0</td>\n",
              "      <td>25.0</td>\n",
              "      <td>0.5</td>\n",
              "      <td>35</td>\n",
              "      <td>30</td>\n",
              "      <td>0.21</td>\n",
              "    </tr>\n",
              "    <tr>\n",
              "      <th>86</th>\n",
              "      <td>87</td>\n",
              "      <td>Katuwonus pelamis</td>\n",
              "      <td>15.0</td>\n",
              "      <td>8.8</td>\n",
              "      <td>1.1</td>\n",
              "      <td>35</td>\n",
              "      <td>30</td>\n",
              "      <td>0.24</td>\n",
              "    </tr>\n",
              "  </tbody>\n",
              "</table>\n",
              "</div>"
            ],
            "text/plain": [
              "    id          fish_name  storage_temperature    K0   Tt  K2  K_dash   RVD\n",
              "82  83  Katuwonus pelamis                  0.5   4.0  5.7  35      30  1.00\n",
              "83  84  Katuwonus pelamis                  5.0  22.0  1.8  35      30  0.70\n",
              "84  85  Katuwonus pelamis                  5.0  25.0  1.9  35      30  0.80\n",
              "85  86  Katuwonus pelamis                 10.0  25.0  0.5  35      30  0.21\n",
              "86  87  Katuwonus pelamis                 15.0   8.8  1.1  35      30  0.24"
            ]
          },
          "metadata": {
            "tags": []
          },
          "execution_count": 5
        }
      ]
    },
    {
      "cell_type": "code",
      "metadata": {
        "colab": {
          "base_uri": "https://localhost:8080/"
        },
        "id": "NunklAagrhB4",
        "outputId": "ec1d6fa5-718b-4777-8d35-8c3d68459c06"
      },
      "source": [
        "# データの型\n",
        "fish_data.shape"
      ],
      "execution_count": null,
      "outputs": [
        {
          "output_type": "execute_result",
          "data": {
            "text/plain": [
              "(87, 8)"
            ]
          },
          "metadata": {
            "tags": []
          },
          "execution_count": 6
        }
      ]
    },
    {
      "cell_type": "code",
      "metadata": {
        "colab": {
          "base_uri": "https://localhost:8080/"
        },
        "id": "FtZwRXFxr26w",
        "outputId": "a01ea0d5-8040-49a5-d616-7cf0527c243e"
      },
      "source": [
        "# 数値のカラムを抽出する。\n",
        "fish_data.select_dtypes(exclude=['object']).columns"
      ],
      "execution_count": null,
      "outputs": [
        {
          "output_type": "execute_result",
          "data": {
            "text/plain": [
              "Index(['id', 'storage_temperature', 'K0', 'Tt', 'K2', 'K_dash', 'RVD'], dtype='object')"
            ]
          },
          "metadata": {
            "tags": []
          },
          "execution_count": 7
        }
      ]
    },
    {
      "cell_type": "code",
      "metadata": {
        "colab": {
          "base_uri": "https://localhost:8080/"
        },
        "id": "Vytuj_qVsDKA",
        "outputId": "03e03173-742e-4e2e-d048-b29a0ba74147"
      },
      "source": [
        "# 数値のカラム数\n",
        "len(fish_data.select_dtypes(exclude='object').columns)"
      ],
      "execution_count": null,
      "outputs": [
        {
          "output_type": "execute_result",
          "data": {
            "text/plain": [
              "7"
            ]
          },
          "metadata": {
            "tags": []
          },
          "execution_count": 8
        }
      ]
    },
    {
      "cell_type": "code",
      "metadata": {
        "colab": {
          "base_uri": "https://localhost:8080/",
          "height": 297
        },
        "id": "DvkeixcmsTgN",
        "outputId": "f093c00c-6119-4283-9dbe-4a5c2768c4f2"
      },
      "source": [
        "# 数値のカラムに関する特徴量を調べる\n",
        "fish_data.select_dtypes(exclude=['object']).describe().round(decimals=2)"
      ],
      "execution_count": null,
      "outputs": [
        {
          "output_type": "execute_result",
          "data": {
            "text/html": [
              "<div>\n",
              "<style scoped>\n",
              "    .dataframe tbody tr th:only-of-type {\n",
              "        vertical-align: middle;\n",
              "    }\n",
              "\n",
              "    .dataframe tbody tr th {\n",
              "        vertical-align: top;\n",
              "    }\n",
              "\n",
              "    .dataframe thead th {\n",
              "        text-align: right;\n",
              "    }\n",
              "</style>\n",
              "<table border=\"1\" class=\"dataframe\">\n",
              "  <thead>\n",
              "    <tr style=\"text-align: right;\">\n",
              "      <th></th>\n",
              "      <th>id</th>\n",
              "      <th>storage_temperature</th>\n",
              "      <th>K0</th>\n",
              "      <th>Tt</th>\n",
              "      <th>K2</th>\n",
              "      <th>K_dash</th>\n",
              "      <th>RVD</th>\n",
              "    </tr>\n",
              "  </thead>\n",
              "  <tbody>\n",
              "    <tr>\n",
              "      <th>count</th>\n",
              "      <td>87.00</td>\n",
              "      <td>87.00</td>\n",
              "      <td>87.00</td>\n",
              "      <td>87.00</td>\n",
              "      <td>87.00</td>\n",
              "      <td>87.00</td>\n",
              "      <td>87.00</td>\n",
              "    </tr>\n",
              "    <tr>\n",
              "      <th>mean</th>\n",
              "      <td>44.00</td>\n",
              "      <td>1.57</td>\n",
              "      <td>9.07</td>\n",
              "      <td>15.33</td>\n",
              "      <td>22.24</td>\n",
              "      <td>17.24</td>\n",
              "      <td>6.51</td>\n",
              "    </tr>\n",
              "    <tr>\n",
              "      <th>std</th>\n",
              "      <td>25.26</td>\n",
              "      <td>7.22</td>\n",
              "      <td>7.12</td>\n",
              "      <td>62.57</td>\n",
              "      <td>5.38</td>\n",
              "      <td>5.38</td>\n",
              "      <td>25.49</td>\n",
              "    </tr>\n",
              "    <tr>\n",
              "      <th>min</th>\n",
              "      <td>1.00</td>\n",
              "      <td>-20.00</td>\n",
              "      <td>0.00</td>\n",
              "      <td>0.02</td>\n",
              "      <td>20.00</td>\n",
              "      <td>15.00</td>\n",
              "      <td>0.01</td>\n",
              "    </tr>\n",
              "    <tr>\n",
              "      <th>25%</th>\n",
              "      <td>22.50</td>\n",
              "      <td>0.00</td>\n",
              "      <td>4.80</td>\n",
              "      <td>1.90</td>\n",
              "      <td>20.00</td>\n",
              "      <td>15.00</td>\n",
              "      <td>0.82</td>\n",
              "    </tr>\n",
              "    <tr>\n",
              "      <th>50%</th>\n",
              "      <td>44.00</td>\n",
              "      <td>0.00</td>\n",
              "      <td>8.00</td>\n",
              "      <td>3.90</td>\n",
              "      <td>20.00</td>\n",
              "      <td>15.00</td>\n",
              "      <td>1.20</td>\n",
              "    </tr>\n",
              "    <tr>\n",
              "      <th>75%</th>\n",
              "      <td>65.50</td>\n",
              "      <td>5.00</td>\n",
              "      <td>11.00</td>\n",
              "      <td>5.80</td>\n",
              "      <td>20.00</td>\n",
              "      <td>15.00</td>\n",
              "      <td>2.60</td>\n",
              "    </tr>\n",
              "    <tr>\n",
              "      <th>max</th>\n",
              "      <td>87.00</td>\n",
              "      <td>32.00</td>\n",
              "      <td>38.00</td>\n",
              "      <td>420.00</td>\n",
              "      <td>35.00</td>\n",
              "      <td>30.00</td>\n",
              "      <td>213.00</td>\n",
              "    </tr>\n",
              "  </tbody>\n",
              "</table>\n",
              "</div>"
            ],
            "text/plain": [
              "          id  storage_temperature     K0      Tt     K2  K_dash     RVD\n",
              "count  87.00                87.00  87.00   87.00  87.00   87.00   87.00\n",
              "mean   44.00                 1.57   9.07   15.33  22.24   17.24    6.51\n",
              "std    25.26                 7.22   7.12   62.57   5.38    5.38   25.49\n",
              "min     1.00               -20.00   0.00    0.02  20.00   15.00    0.01\n",
              "25%    22.50                 0.00   4.80    1.90  20.00   15.00    0.82\n",
              "50%    44.00                 0.00   8.00    3.90  20.00   15.00    1.20\n",
              "75%    65.50                 5.00  11.00    5.80  20.00   15.00    2.60\n",
              "max    87.00                32.00  38.00  420.00  35.00   30.00  213.00"
            ]
          },
          "metadata": {
            "tags": []
          },
          "execution_count": 11
        }
      ]
    },
    {
      "cell_type": "code",
      "metadata": {
        "colab": {
          "base_uri": "https://localhost:8080/"
        },
        "id": "fcChvJPJsdIh",
        "outputId": "9daee294-02f4-4737-c114-cdfd6ad1f7a2"
      },
      "source": [
        "# カテゴリのカラムを抽出する。\n",
        "fish_data.select_dtypes(include=['object']).columns"
      ],
      "execution_count": null,
      "outputs": [
        {
          "output_type": "execute_result",
          "data": {
            "text/plain": [
              "Index(['fish_name'], dtype='object')"
            ]
          },
          "metadata": {
            "tags": []
          },
          "execution_count": 12
        }
      ]
    },
    {
      "cell_type": "code",
      "metadata": {
        "colab": {
          "base_uri": "https://localhost:8080/"
        },
        "id": "MCgI83-Cse1Z",
        "outputId": "7d8cabb9-acb1-4cd5-a435-da66cc97bd13"
      },
      "source": [
        "# カテゴリのカラム数\n",
        "len(fish_data.select_dtypes(include='object').columns)"
      ],
      "execution_count": null,
      "outputs": [
        {
          "output_type": "execute_result",
          "data": {
            "text/plain": [
              "1"
            ]
          },
          "metadata": {
            "tags": []
          },
          "execution_count": 13
        }
      ]
    },
    {
      "cell_type": "code",
      "metadata": {
        "colab": {
          "base_uri": "https://localhost:8080/",
          "height": 173
        },
        "id": "EgD0Gv3UssLY",
        "outputId": "43c85caa-675c-4be1-9ab9-12d9003f35f2"
      },
      "source": [
        "# カテゴリカラムに関する特徴量を調べる\n",
        "fish_data.select_dtypes(include=['object']).describe()"
      ],
      "execution_count": null,
      "outputs": [
        {
          "output_type": "execute_result",
          "data": {
            "text/html": [
              "<div>\n",
              "<style scoped>\n",
              "    .dataframe tbody tr th:only-of-type {\n",
              "        vertical-align: middle;\n",
              "    }\n",
              "\n",
              "    .dataframe tbody tr th {\n",
              "        vertical-align: top;\n",
              "    }\n",
              "\n",
              "    .dataframe thead th {\n",
              "        text-align: right;\n",
              "    }\n",
              "</style>\n",
              "<table border=\"1\" class=\"dataframe\">\n",
              "  <thead>\n",
              "    <tr style=\"text-align: right;\">\n",
              "      <th></th>\n",
              "      <th>fish_name</th>\n",
              "    </tr>\n",
              "  </thead>\n",
              "  <tbody>\n",
              "    <tr>\n",
              "      <th>count</th>\n",
              "      <td>87</td>\n",
              "    </tr>\n",
              "    <tr>\n",
              "      <th>unique</th>\n",
              "      <td>5</td>\n",
              "    </tr>\n",
              "    <tr>\n",
              "      <th>top</th>\n",
              "      <td>Scomber japonicus</td>\n",
              "    </tr>\n",
              "    <tr>\n",
              "      <th>freq</th>\n",
              "      <td>31</td>\n",
              "    </tr>\n",
              "  </tbody>\n",
              "</table>\n",
              "</div>"
            ],
            "text/plain": [
              "                fish_name\n",
              "count                  87\n",
              "unique                  5\n",
              "top     Scomber japonicus\n",
              "freq                   31"
            ]
          },
          "metadata": {
            "tags": []
          },
          "execution_count": 14
        }
      ]
    },
    {
      "cell_type": "code",
      "metadata": {
        "colab": {
          "base_uri": "https://localhost:8080/",
          "height": 349
        },
        "id": "Ds9ttK-js1j5",
        "outputId": "bb29ec65-c799-427c-9e89-95c4fd6e975b"
      },
      "source": [
        "# RVDデータの偏りを調べる\n",
        "target = fish_data.RVD\n",
        "plt.figure()\n",
        "sns.distplot(target)\n",
        "plt.title('Distribution of RVD')\n",
        "plt.show()"
      ],
      "execution_count": null,
      "outputs": [
        {
          "output_type": "stream",
          "text": [
            "/usr/local/lib/python3.6/dist-packages/seaborn/distributions.py:2551: FutureWarning: `distplot` is a deprecated function and will be removed in a future version. Please adapt your code to use either `displot` (a figure-level function with similar flexibility) or `histplot` (an axes-level function for histograms).\n",
            "  warnings.warn(msg, FutureWarning)\n"
          ],
          "name": "stderr"
        },
        {
          "output_type": "display_data",
          "data": {
            "image/png": "[encoded data removed]",
            "text/plain": [
              "<Figure size 432x288 with 1 Axes>"
            ]
          },
          "metadata": {
            "tags": [],
            "needs_background": "light"
          }
        }
      ]
    },
    {
      "cell_type": "code",
      "metadata": {
        "colab": {
          "base_uri": "https://localhost:8080/",
          "height": 349
        },
        "id": "x_73p3E0tIAG",
        "outputId": "bdf32c9d-9988-4ca2-8801-fea7c5d18c9a"
      },
      "source": [
        "# 対数変換して歪度を減らす。\n",
        "# 線形回帰だと重要だが決定木やRDだと補正の必要はない。\n",
        "# 今回は比較対象として線形回帰も入っているのでやる。\n",
        "sns.distplot(np.log(target))\n",
        "plt.title('Distribution of Log-transformed RVD')\n",
        "plt.xlabel('log(RVD)')\n",
        "plt.show()"
      ],
      "execution_count": null,
      "outputs": [
        {
          "output_type": "stream",
          "text": [
            "/usr/local/lib/python3.6/dist-packages/seaborn/distributions.py:2551: FutureWarning: `distplot` is a deprecated function and will be removed in a future version. Please adapt your code to use either `displot` (a figure-level function with similar flexibility) or `histplot` (an axes-level function for histograms).\n",
            "  warnings.warn(msg, FutureWarning)\n"
          ],
          "name": "stderr"
        },
        {
          "output_type": "display_data",
          "data": {
            "image/png": "[encoded data removed]",
            "text/plain": [
              "<Figure size 432x288 with 1 Axes>"
            ]
          },
          "metadata": {
            "tags": [],
            "needs_background": "light"
          }
        }
      ]
    },
    {
      "cell_type": "code",
      "metadata": {
        "colab": {
          "base_uri": "https://localhost:8080/"
        },
        "id": "Pdwkm1IdtSrA",
        "outputId": "94ea5eaf-d9a7-4184-982f-24b78c27d899"
      },
      "source": [
        "# 対数変換してどれくらい歪度減ったのかを表示。\n",
        "print('RVD has a skew of ' + str(target.skew().round(decimals=2)) + \n",
        "      ' while the log-transformed RVD improves the skew to ' + \n",
        "      str(np.log(target).skew().round(decimals=2)))"
      ],
      "execution_count": null,
      "outputs": [
        {
          "output_type": "stream",
          "text": [
            "RVD has a skew of 7.08 while the log-transformed RVD improves the skew to 0.61\n"
          ],
          "name": "stdout"
        }
      ]
    },
    {
      "cell_type": "code",
      "metadata": {
        "colab": {
          "base_uri": "https://localhost:8080/",
          "height": 507
        },
        "id": "-yCD8zXstdrz",
        "outputId": "c669ad23-17c9-488b-b4f4-ceddaeecfc1c"
      },
      "source": [
        "# 各カラムごとの特徴を掴む。IDは別に知らなくていいから排除。\n",
        "\n",
        "num_attributes = fish_data.select_dtypes(exclude='object').drop(['id'], axis=1).copy()\n",
        "\n",
        "fig = plt.figure(figsize=(12,18))\n",
        "for i in range(len(num_attributes.columns)):\n",
        "    fig.add_subplot(9,4,i+1)\n",
        "    sns.distplot(num_attributes.iloc[:,i].dropna())\n",
        "    plt.xlabel(num_attributes.columns[i])\n",
        "\n",
        "plt.tight_layout()\n",
        "plt.show()"
      ],
      "execution_count": null,
      "outputs": [
        {
          "output_type": "stream",
          "text": [
            "/usr/local/lib/python3.6/dist-packages/seaborn/distributions.py:2551: FutureWarning: `distplot` is a deprecated function and will be removed in a future version. Please adapt your code to use either `displot` (a figure-level function with similar flexibility) or `histplot` (an axes-level function for histograms).\n",
            "  warnings.warn(msg, FutureWarning)\n",
            "/usr/local/lib/python3.6/dist-packages/seaborn/distributions.py:2551: FutureWarning: `distplot` is a deprecated function and will be removed in a future version. Please adapt your code to use either `displot` (a figure-level function with similar flexibility) or `histplot` (an axes-level function for histograms).\n",
            "  warnings.warn(msg, FutureWarning)\n",
            "/usr/local/lib/python3.6/dist-packages/seaborn/distributions.py:2551: FutureWarning: `distplot` is a deprecated function and will be removed in a future version. Please adapt your code to use either `displot` (a figure-level function with similar flexibility) or `histplot` (an axes-level function for histograms).\n",
            "  warnings.warn(msg, FutureWarning)\n",
            "/usr/local/lib/python3.6/dist-packages/seaborn/distributions.py:2551: FutureWarning: `distplot` is a deprecated function and will be removed in a future version. Please adapt your code to use either `displot` (a figure-level function with similar flexibility) or `histplot` (an axes-level function for histograms).\n",
            "  warnings.warn(msg, FutureWarning)\n",
            "/usr/local/lib/python3.6/dist-packages/seaborn/distributions.py:2551: FutureWarning: `distplot` is a deprecated function and will be removed in a future version. Please adapt your code to use either `displot` (a figure-level function with similar flexibility) or `histplot` (an axes-level function for histograms).\n",
            "  warnings.warn(msg, FutureWarning)\n",
            "/usr/local/lib/python3.6/dist-packages/seaborn/distributions.py:2551: FutureWarning: `distplot` is a deprecated function and will be removed in a future version. Please adapt your code to use either `displot` (a figure-level function with similar flexibility) or `histplot` (an axes-level function for histograms).\n",
            "  warnings.warn(msg, FutureWarning)\n"
          ],
          "name": "stderr"
        },
        {
          "output_type": "display_data",
          "data": {
            "image/png": "[encoded data removed]",
            "text/plain": [
              "<Figure size 864x1296 with 6 Axes>"
            ]
          },
          "metadata": {
            "tags": [],
            "needs_background": "light"
          }
        }
      ]
    },
    {
      "cell_type": "code",
      "metadata": {
        "colab": {
          "base_uri": "https://localhost:8080/",
          "height": 274
        },
        "id": "6Q9Qbb9Nt2JY",
        "outputId": "1e0d1851-0bd1-484d-8a4a-853e23f6db25"
      },
      "source": [
        "# 各カラムの箱ひげ図\n",
        "fig = plt.figure(figsize=(12, 18))\n",
        "\n",
        "for i in range(len(num_attributes.columns)):\n",
        "    fig.add_subplot(9, 4, i+1)\n",
        "    sns.boxplot(y=num_attributes.iloc[:,i])\n",
        "\n",
        "plt.tight_layout()\n",
        "plt.show()"
      ],
      "execution_count": null,
      "outputs": [
        {
          "output_type": "display_data",
          "data": {
            "image/png": "[encoded data removed]",
            "text/plain": [
              "<Figure size 864x1296 with 6 Axes>"
            ]
          },
          "metadata": {
            "tags": [],
            "needs_background": "light"
          }
        }
      ]
    },
    {
      "cell_type": "code",
      "metadata": {
        "colab": {
          "base_uri": "https://localhost:8080/",
          "height": 535
        },
        "id": "x0yJawj_uQN2",
        "outputId": "571dac8f-912d-4cc7-f215-783250a0ddd4"
      },
      "source": [
        "# RVDと各カラムとの散布図\n",
        "f = plt.figure(figsize=(12,20))\n",
        "\n",
        "for i in range(len(num_attributes.columns)):\n",
        "    f.add_subplot(9, 4, i+1)\n",
        "    sns.scatterplot(num_attributes.iloc[:,i], target)\n",
        "    \n",
        "plt.tight_layout()\n",
        "plt.show()"
      ],
      "execution_count": null,
      "outputs": [
        {
          "output_type": "stream",
          "text": [
            "/usr/local/lib/python3.6/dist-packages/seaborn/_decorators.py:43: FutureWarning: Pass the following variables as keyword args: x, y. From version 0.12, the only valid positional argument will be `data`, and passing other arguments without an explicit keyword will result in an error or misinterpretation.\n",
            "  FutureWarning\n",
            "/usr/local/lib/python3.6/dist-packages/seaborn/_decorators.py:43: FutureWarning: Pass the following variables as keyword args: x, y. From version 0.12, the only valid positional argument will be `data`, and passing other arguments without an explicit keyword will result in an error or misinterpretation.\n",
            "  FutureWarning\n",
            "/usr/local/lib/python3.6/dist-packages/seaborn/_decorators.py:43: FutureWarning: Pass the following variables as keyword args: x, y. From version 0.12, the only valid positional argument will be `data`, and passing other arguments without an explicit keyword will result in an error or misinterpretation.\n",
            "  FutureWarning\n",
            "/usr/local/lib/python3.6/dist-packages/seaborn/_decorators.py:43: FutureWarning: Pass the following variables as keyword args: x, y. From version 0.12, the only valid positional argument will be `data`, and passing other arguments without an explicit keyword will result in an error or misinterpretation.\n",
            "  FutureWarning\n",
            "/usr/local/lib/python3.6/dist-packages/seaborn/_decorators.py:43: FutureWarning: Pass the following variables as keyword args: x, y. From version 0.12, the only valid positional argument will be `data`, and passing other arguments without an explicit keyword will result in an error or misinterpretation.\n",
            "  FutureWarning\n",
            "/usr/local/lib/python3.6/dist-packages/seaborn/_decorators.py:43: FutureWarning: Pass the following variables as keyword args: x, y. From version 0.12, the only valid positional argument will be `data`, and passing other arguments without an explicit keyword will result in an error or misinterpretation.\n",
            "  FutureWarning\n"
          ],
          "name": "stderr"
        },
        {
          "output_type": "display_data",
          "data": {
            "image/png": "[encoded data removed]",
            "text/plain": [
              "<Figure size 864x1440 with 6 Axes>"
            ]
          },
          "metadata": {
            "tags": [],
            "needs_background": "light"
          }
        }
      ]
    },
    {
      "cell_type": "code",
      "metadata": {
        "colab": {
          "base_uri": "https://localhost:8080/",
          "height": 648
        },
        "id": "SfUnIms2uVGS",
        "outputId": "353391a3-06a4-42df-f179-5aebaa8efb20"
      },
      "source": [
        "# 相関のヒートマップ\n",
        "# 線形回帰をモデリングに使用するには、モデルを改善するために相関のある変数を削除する必要があることが多いので、そのあぶり出しに。\n",
        "correlation = fish_data.corr()\n",
        "\n",
        "f, ax = plt.subplots(figsize=(14,12))\n",
        "plt.title('Correlation of numerical attributes', size=16)\n",
        "sns.heatmap(correlation)\n",
        "plt.show()\n"
      ],
      "execution_count": null,
      "outputs": [
        {
          "output_type": "display_data",
          "data": {
            "image/png": "[encoded data removed]",
            "text/plain": [
              "<Figure size 1008x864 with 2 Axes>"
            ]
          },
          "metadata": {
            "tags": [],
            "needs_background": "light"
          }
        }
      ]
    },
    {
      "cell_type": "code",
      "metadata": {
        "colab": {
          "base_uri": "https://localhost:8080/"
        },
        "id": "hd_sBggWuoyY",
        "outputId": "3b6b27dc-8e88-4efe-da33-2c32b7230307"
      },
      "source": [
        "# RVDと相関が強いものランキング。\n",
        "# Tt(刺身としての許容日数)が長ければ長いほどRVDは長い(そりゃそう)。\n",
        "# storage_temperatureが低いほど、RVDは長い(そりゃそう)。\n",
        "correlation['RVD'].sort_values(ascending=False).head(10)"
      ],
      "execution_count": null,
      "outputs": [
        {
          "output_type": "execute_result",
          "data": {
            "text/plain": [
              "RVD                    1.000000\n",
              "Tt                     0.941024\n",
              "K0                     0.042915\n",
              "K_dash                -0.060150\n",
              "K2                    -0.060150\n",
              "id                    -0.075570\n",
              "storage_temperature   -0.381049\n",
              "Name: RVD, dtype: float64"
            ]
          },
          "metadata": {
            "tags": []
          },
          "execution_count": 23
        }
      ]
    },
    {
      "cell_type": "code",
      "metadata": {
        "colab": {
          "base_uri": "https://localhost:8080/",
          "height": 561
        },
        "id": "7dZtdryduu8Y",
        "outputId": "280a5427-2599-4554-c648-13951b33ecc5"
      },
      "source": [
        "# もっかい散布図を見てみる\n",
        "num_columns = fish_data.select_dtypes(exclude='object').columns\n",
        "corr_to_price = correlation['RVD']\n",
        "n_cols = 4\n",
        "n_rows = 2\n",
        "fig, ax_arr = plt.subplots(n_rows, n_cols, figsize=(16,5), sharey=True)\n",
        "plt.subplots_adjust(bottom=-0.8)\n",
        "for j in range(n_rows):\n",
        "    for i in range(n_cols):\n",
        "        plt.sca(ax_arr[j, i])\n",
        "        index = i + j*n_cols\n",
        "        if index < len(num_columns):\n",
        "            plt.scatter(fish_data[num_columns[index]], fish_data.RVD)\n",
        "            plt.xlabel(num_columns[index])\n",
        "            plt.title('Corr to RVD = '+ str(np.around(corr_to_price[index], decimals=3)))\n",
        "plt.show()"
      ],
      "execution_count": null,
      "outputs": [
        {
          "output_type": "display_data",
          "data": {
            "image/png": "[encoded data removed]",
            "text/plain": [
              "<Figure size 1152x360 with 8 Axes>"
            ]
          },
          "metadata": {
            "tags": [],
            "needs_background": "light"
          }
        }
      ]
    },
    {
      "cell_type": "code",
      "metadata": {
        "colab": {
          "base_uri": "https://localhost:8080/"
        },
        "id": "YAGTRF0hwBRY",
        "outputId": "0e468981-e8e3-4941-bf79-2e586c6d5144"
      },
      "source": [
        "# null値のものがあるかチェック。\n",
        "num_attributes.isna().sum().sort_values(ascending=False).head()"
      ],
      "execution_count": null,
      "outputs": [
        {
          "output_type": "execute_result",
          "data": {
            "text/plain": [
              "RVD       0\n",
              "K_dash    0\n",
              "K2        0\n",
              "Tt        0\n",
              "K0        0\n",
              "dtype: int64"
            ]
          },
          "metadata": {
            "tags": []
          },
          "execution_count": 29
        }
      ]
    },
    {
      "cell_type": "code",
      "metadata": {
        "colab": {
          "base_uri": "https://localhost:8080/"
        },
        "id": "qNlISqbqwEZo",
        "outputId": "1393fac1-1801-4c88-a229-cd6e2505277a"
      },
      "source": [
        "# カテゴリカラムの確認\n",
        "cat_columns = fish_data.select_dtypes(include='object').columns\n",
        "print(cat_columns)"
      ],
      "execution_count": null,
      "outputs": [
        {
          "output_type": "stream",
          "text": [
            "Index(['fish_name'], dtype='object')\n"
          ],
          "name": "stdout"
        }
      ]
    },
    {
      "cell_type": "code",
      "metadata": {
        "colab": {
          "base_uri": "https://localhost:8080/",
          "height": 389
        },
        "id": "l0ky8dA8wGKU",
        "outputId": "7bf90374-b953-4221-a7be-7ef408595d27"
      },
      "source": [
        "# 魚種ごとのRVDの観察。\n",
        "var = fish_data['fish_name']\n",
        "f, ax = plt.subplots(figsize=(12,6))\n",
        "sns.boxplot(y=fish_data.RVD, x=var)\n",
        "plt.show()"
      ],
      "execution_count": null,
      "outputs": [
        {
          "output_type": "display_data",
          "data": {
            "image/png": "[encoded data removed]",
            "text/plain": [
              "<Figure size 864x432 with 1 Axes>"
            ]
          },
          "metadata": {
            "tags": [],
            "needs_background": "light"
          }
        }
      ]
    },
    {
      "cell_type": "code",
      "metadata": {
        "id": "HiUBODDhzB8U"
      },
      "source": [
        "# データのクリーニングと前処理に使うライブラリのインポート\n",
        "from sklearn.preprocessing import StandardScaler\n",
        "from sklearn.impute import SimpleImputer\n",
        "from sklearn.model_selection import train_test_split"
      ],
      "execution_count": null,
      "outputs": []
    },
    {
      "cell_type": "code",
      "metadata": {
        "id": "V7HHl27AzLq6"
      },
      "source": [
        "# 元データを壊さないように、コピーをいじる。\n",
        "fish_data_copy = fish_data.copy()"
      ],
      "execution_count": null,
      "outputs": []
    },
    {
      "cell_type": "code",
      "metadata": {
        "id": "tS5ZxyD6zoFB"
      },
      "source": [
        "# 対数変換して、カラム名を変えておく\n",
        "fish_data_copy['RVD'] = np.log(fish_data_copy['RVD'])\n",
        "fish_data_copy = fish_data_copy.rename(columns={'RVD': 'RVD_log'})"
      ],
      "execution_count": null,
      "outputs": []
    },
    {
      "cell_type": "code",
      "metadata": {
        "colab": {
          "base_uri": "https://localhost:8080/",
          "height": 613
        },
        "id": "VJ2EV9yg0MBz",
        "outputId": "19e4b1d5-62d2-48fb-e988-19b44fe8e595"
      },
      "source": [
        "# 対数変換後の相関を確認\n",
        "transformed_corr = fish_data_copy.corr()\n",
        "plt.figure(figsize=(12,10))\n",
        "sns.heatmap(transformed_corr)"
      ],
      "execution_count": null,
      "outputs": [
        {
          "output_type": "execute_result",
          "data": {
            "text/plain": [
              "<matplotlib.axes._subplots.AxesSubplot at 0x7f7bbbde8860>"
            ]
          },
          "metadata": {
            "tags": []
          },
          "execution_count": 36
        },
        {
          "output_type": "display_data",
          "data": {
            "image/png": "[encoded data removed]",
            "text/plain": [
              "<Figure size 864x720 with 2 Axes>"
            ]
          },
          "metadata": {
            "tags": [],
            "needs_background": "light"
          }
        }
      ]
    },
    {
      "cell_type": "code",
      "metadata": {
        "colab": {
          "base_uri": "https://localhost:8080/",
          "height": 241
        },
        "id": "zI5gr53P0Q1Z",
        "outputId": "c2f7cede-3b44-4250-f236-59b6a5656e0a"
      },
      "source": [
        "# 学習データの作成\n",
        "y =  fish_data_copy.RVD_log\n",
        "\n",
        "attributes_drop = ['id'] \n",
        "X = fish_data_copy.drop(attributes_drop, axis=1)\n",
        "\n",
        "# idカラムは使わない。魚種名はワンホット表現に変換。\n",
        "X = pd.get_dummies(X)\n",
        "train_X, val_X, train_y, val_y = train_test_split(X, y, random_state=1)\n",
        "\n",
        "# 今回のデータセットは欠損値はないが、どの道後から出てくるので入れとく\n",
        "my_imputer = SimpleImputer()\n",
        "train_X = my_imputer.fit_transform(train_X)\n",
        "val_X = my_imputer.transform(val_X)\n",
        "\n",
        "X.head()"
      ],
      "execution_count": null,
      "outputs": [
        {
          "output_type": "execute_result",
          "data": {
            "text/html": [
              "<div>\n",
              "<style scoped>\n",
              "    .dataframe tbody tr th:only-of-type {\n",
              "        vertical-align: middle;\n",
              "    }\n",
              "\n",
              "    .dataframe tbody tr th {\n",
              "        vertical-align: top;\n",
              "    }\n",
              "\n",
              "    .dataframe thead th {\n",
              "        text-align: right;\n",
              "    }\n",
              "</style>\n",
              "<table border=\"1\" class=\"dataframe\">\n",
              "  <thead>\n",
              "    <tr style=\"text-align: right;\">\n",
              "      <th></th>\n",
              "      <th>storage_temperature</th>\n",
              "      <th>K0</th>\n",
              "      <th>Tt</th>\n",
              "      <th>K2</th>\n",
              "      <th>K_dash</th>\n",
              "      <th>RVD_log</th>\n",
              "      <th>fish_name_Katuwonus pelamis</th>\n",
              "      <th>fish_name_Pagrus major</th>\n",
              "      <th>fish_name_Sardinops melanostictus</th>\n",
              "      <th>fish_name_Scomber japonicus</th>\n",
              "      <th>fish_name_Seriola quinqueradiata</th>\n",
              "    </tr>\n",
              "  </thead>\n",
              "  <tbody>\n",
              "    <tr>\n",
              "      <th>0</th>\n",
              "      <td>-10.0</td>\n",
              "      <td>5.5</td>\n",
              "      <td>40.0</td>\n",
              "      <td>20</td>\n",
              "      <td>15</td>\n",
              "      <td>2.708050</td>\n",
              "      <td>0</td>\n",
              "      <td>1</td>\n",
              "      <td>0</td>\n",
              "      <td>0</td>\n",
              "      <td>0</td>\n",
              "    </tr>\n",
              "    <tr>\n",
              "      <th>1</th>\n",
              "      <td>-2.0</td>\n",
              "      <td>4.8</td>\n",
              "      <td>23.0</td>\n",
              "      <td>20</td>\n",
              "      <td>15</td>\n",
              "      <td>2.014903</td>\n",
              "      <td>0</td>\n",
              "      <td>1</td>\n",
              "      <td>0</td>\n",
              "      <td>0</td>\n",
              "      <td>0</td>\n",
              "    </tr>\n",
              "    <tr>\n",
              "      <th>2</th>\n",
              "      <td>0.0</td>\n",
              "      <td>6.5</td>\n",
              "      <td>10.0</td>\n",
              "      <td>20</td>\n",
              "      <td>15</td>\n",
              "      <td>1.360977</td>\n",
              "      <td>0</td>\n",
              "      <td>1</td>\n",
              "      <td>0</td>\n",
              "      <td>0</td>\n",
              "      <td>0</td>\n",
              "    </tr>\n",
              "    <tr>\n",
              "      <th>3</th>\n",
              "      <td>0.0</td>\n",
              "      <td>6.7</td>\n",
              "      <td>5.0</td>\n",
              "      <td>20</td>\n",
              "      <td>15</td>\n",
              "      <td>0.587787</td>\n",
              "      <td>0</td>\n",
              "      <td>1</td>\n",
              "      <td>0</td>\n",
              "      <td>0</td>\n",
              "      <td>0</td>\n",
              "    </tr>\n",
              "    <tr>\n",
              "      <th>4</th>\n",
              "      <td>0.0</td>\n",
              "      <td>0.5</td>\n",
              "      <td>420.0</td>\n",
              "      <td>20</td>\n",
              "      <td>15</td>\n",
              "      <td>4.682131</td>\n",
              "      <td>0</td>\n",
              "      <td>1</td>\n",
              "      <td>0</td>\n",
              "      <td>0</td>\n",
              "      <td>0</td>\n",
              "    </tr>\n",
              "  </tbody>\n",
              "</table>\n",
              "</div>"
            ],
            "text/plain": [
              "   storage_temperature  ...  fish_name_Seriola quinqueradiata\n",
              "0                -10.0  ...                                 0\n",
              "1                 -2.0  ...                                 0\n",
              "2                  0.0  ...                                 0\n",
              "3                  0.0  ...                                 0\n",
              "4                  0.0  ...                                 0\n",
              "\n",
              "[5 rows x 11 columns]"
            ]
          },
          "metadata": {
            "tags": []
          },
          "execution_count": 81
        }
      ]
    },
    {
      "cell_type": "code",
      "metadata": {
        "id": "ex2y68Qd09Pw"
      },
      "source": [
        "# 機械学習アルゴリズムの評価/選定\n",
        "from sklearn.metrics import mean_absolute_error\n",
        "\n",
        "from sklearn.linear_model import Lasso\n",
        "from sklearn.linear_model import LinearRegression\n",
        "from sklearn.linear_model import Ridge\n",
        "from sklearn.linear_model import ElasticNet\n",
        "from sklearn.neighbors import KNeighborsRegressor\n",
        "from sklearn.svm import SVR\n",
        "from sklearn.ensemble import RandomForestRegressor\n",
        "from sklearn.ensemble import GradientBoostingRegressor\n",
        "from sklearn.ensemble import AdaBoostRegressor\n",
        "from sklearn.tree import DecisionTreeRegressor\n",
        "from xgboost import XGBRegressor"
      ],
      "execution_count": null,
      "outputs": []
    },
    {
      "cell_type": "code",
      "metadata": {
        "colab": {
          "base_uri": "https://localhost:8080/"
        },
        "id": "fjOSYSAD1KbX",
        "outputId": "e9d4b358-16a5-4c3b-b3f6-bb410e7f7c9f"
      },
      "source": [
        "def inv_y(transformed_y):\n",
        "    return np.exp(transformed_y)\n",
        "\n",
        "# 各アルゴリズムの平均絶対誤差を確認する.\n",
        "mae_compare = pd.Series()\n",
        "mae_compare.index.name = 'Algorithm'\n",
        "\n",
        "# ランダムフォレスト=============================\n",
        "rf_model = RandomForestRegressor(random_state=5)\n",
        "rf_model.fit(train_X, train_y)\n",
        "rf_val_predictions = rf_model.predict(val_X)\n",
        "rf_val_mae = mean_absolute_error(inv_y(rf_val_predictions), inv_y(val_y))\n",
        "\n",
        "mae_compare['RandomForest'] = rf_val_mae\n",
        "\n",
        "# XGBoost======================================\n",
        "xgb_model = XGBRegressor(n_estimators=1000, learning_rate=0.005)\n",
        "xgb_model.fit(train_X, train_y, early_stopping_rounds=5, \n",
        "              eval_set=[(val_X,val_y)], verbose=False)\n",
        "xgb_val_predictions = xgb_model.predict(val_X)\n",
        "xgb_val_mae = mean_absolute_error(inv_y(xgb_val_predictions), inv_y(val_y))\n",
        "\n",
        "mae_compare['XGBoost'] = xgb_val_mae\n",
        "\n",
        "# 線形回帰=================================================\n",
        "linear_model = LinearRegression()\n",
        "linear_model.fit(train_X, train_y)\n",
        "linear_val_predictions = linear_model.predict(val_X)\n",
        "linear_val_mae = mean_absolute_error(inv_y(linear_val_predictions), inv_y(val_y))\n",
        "\n",
        "mae_compare['LinearRegression'] = linear_val_mae\n",
        "\n",
        "# ラッソ回帰==============================================================\n",
        "lasso_model = Lasso(alpha=0.0005, random_state=5)\n",
        "lasso_model.fit(train_X, train_y)\n",
        "lasso_val_predictions = lasso_model.predict(val_X)\n",
        "lasso_val_mae = mean_absolute_error(inv_y(lasso_val_predictions), inv_y(val_y))\n",
        "\n",
        "mae_compare['Lasso'] = lasso_val_mae\n",
        "\n",
        "# リッジ回帰===============================================================\n",
        "ridge_model = Ridge(alpha=0.0002, random_state=5)\n",
        "ridge_model.fit(train_X, train_y)\n",
        "ridge_val_predictions = ridge_model.predict(val_X)\n",
        "ridge_val_mae = mean_absolute_error(inv_y(ridge_val_predictions), inv_y(val_y))\n",
        "\n",
        "mae_compare['Ridge'] = ridge_val_mae\n",
        "\n",
        "# ElasticNet===========================================================\n",
        "elastic_net_model = ElasticNet(alpha=0.02, random_state=5, l1_ratio=0.7)\n",
        "elastic_net_model.fit(train_X, train_y)\n",
        "elastic_net_val_predictions = elastic_net_model.predict(val_X)\n",
        "elastic_net_val_mae = mean_absolute_error(inv_y(elastic_net_val_predictions), inv_y(val_y))\n",
        "\n",
        "mae_compare['ElasticNet'] = elastic_net_val_mae\n",
        "\n",
        "# 勾配ブースティング==========================================\n",
        "gbr_model = GradientBoostingRegressor(n_estimators=300, learning_rate=0.05, \n",
        "                                      max_depth=4, random_state=5)\n",
        "gbr_model.fit(train_X, train_y)\n",
        "gbr_val_predictions = gbr_model.predict(val_X)\n",
        "gbr_val_mae = mean_absolute_error(inv_y(gbr_val_predictions), inv_y(val_y))\n",
        "\n",
        "mae_compare['GradientBoosting'] = gbr_val_mae\n",
        "\n",
        "print('MAE values for different algorithms:')\n",
        "mae_compare.sort_values(ascending=True)"
      ],
      "execution_count": null,
      "outputs": [
        {
          "output_type": "stream",
          "text": [
            "/usr/local/lib/python3.6/dist-packages/ipykernel_launcher.py:5: DeprecationWarning: The default dtype for empty Series will be 'object' instead of 'float64' in a future version. Specify a dtype explicitly to silence this warning.\n",
            "  \"\"\"\n"
          ],
          "name": "stderr"
        },
        {
          "output_type": "stream",
          "text": [
            "[11:30:02] WARNING: /workspace/src/objective/regression_obj.cu:152: reg:linear is now deprecated in favor of reg:squarederror.\n",
            "MAE values for different algorithms:\n"
          ],
          "name": "stdout"
        },
        {
          "output_type": "execute_result",
          "data": {
            "text/plain": [
              "Algorithm\n",
              "LinearRegression    3.324361e-15\n",
              "Ridge               4.368322e-06\n",
              "Lasso               2.792421e-04\n",
              "ElasticNet          1.071004e-02\n",
              "GradientBoosting    3.702803e-02\n",
              "XGBoost             4.454938e-02\n",
              "RandomForest        7.083150e-02\n",
              "dtype: float64"
            ]
          },
          "metadata": {
            "tags": []
          },
          "execution_count": 79
        }
      ]
    },
    {
      "cell_type": "code",
      "metadata": {
        "colab": {
          "base_uri": "https://localhost:8080/"
        },
        "id": "u8kZ8vqK1b9-",
        "outputId": "8f749673-1685-4164-d711-b78f8fac9688"
      },
      "source": [
        "# クロスバリデーション\n",
        "# ラッソ回帰\n",
        "from sklearn.model_selection import cross_val_score\n",
        "\n",
        "imputer = SimpleImputer()\n",
        "imputed_X = imputer.fit_transform(X)\n",
        "n_folds = 10\n",
        "\n",
        "# =========================================================================\n",
        "scores = cross_val_score(lasso_model, imputed_X, y, scoring='neg_mean_squared_error', \n",
        "                         cv=n_folds)\n",
        "lasso_mae_scores = np.sqrt(-scores)\n",
        "\n",
        "print('For LASSO model:')\n",
        "# print(lasso_mae_scores.round(decimals=2))\n",
        "print('Mean RMSE = ' + str(lasso_mae_scores.mean().round(decimals=3)))\n",
        "print('Error std deviation = ' +str(lasso_mae_scores.std().round(decimals=3)))"
      ],
      "execution_count": null,
      "outputs": [
        {
          "output_type": "stream",
          "text": [
            "For LASSO model:\n",
            "Mean RMSE = 0.001\n",
            "Error std deviation = 0.0\n"
          ],
          "name": "stdout"
        }
      ]
    },
    {
      "cell_type": "code",
      "metadata": {
        "colab": {
          "base_uri": "https://localhost:8080/"
        },
        "id": "qKJmTg2q1klC",
        "outputId": "e58d6170-4678-44f9-aee2-dcf824b646eb"
      },
      "source": [
        "# クロスバリデーション\n",
        "# 勾配ブースティング\n",
        "scores = cross_val_score(gbr_model, imputed_X, y, scoring='neg_mean_squared_error', \n",
        "                         cv=n_folds)\n",
        "gbr_mae_scores = np.sqrt(-scores)\n",
        "\n",
        "print('For Gradient Boosting model:')\n",
        "# print(lasso_mae_scores.round(decimals=2))\n",
        "print('Mean RMSE = ' + str(gbr_mae_scores.mean().round(decimals=3)))\n",
        "print('Error std deviation = ' +str(gbr_mae_scores.std().round(decimals=3)))"
      ],
      "execution_count": null,
      "outputs": [
        {
          "output_type": "stream",
          "text": [
            "For Gradient Boosting model:\n",
            "Mean RMSE = 0.227\n",
            "Error std deviation = 0.333\n"
          ],
          "name": "stdout"
        }
      ]
    },
    {
      "cell_type": "code",
      "metadata": {
        "colab": {
          "base_uri": "https://localhost:8080/"
        },
        "id": "tXboqL3K1qg3",
        "outputId": "3204495a-2477-463b-e551-9d536698bc9a"
      },
      "source": [
        "# クロスバリデーション\n",
        "# XGBoost\n",
        "scores = cross_val_score(xgb_model, imputed_X, y, scoring='neg_mean_squared_error', \n",
        "                         cv=n_folds)\n",
        "mae_scores = np.sqrt(-scores)\n",
        "\n",
        "print('For XGBoost model:')\n",
        "# print(mae_scores.round(decimals=2))\n",
        "print('Mean RMSE = ' + str(mae_scores.mean().round(decimals=3)))\n",
        "print('Error std deviation = ' +str(mae_scores.std().round(decimals=3)))"
      ],
      "execution_count": null,
      "outputs": [
        {
          "output_type": "stream",
          "text": [
            "[11:24:49] WARNING: /workspace/src/objective/regression_obj.cu:152: reg:linear is now deprecated in favor of reg:squarederror.\n",
            "[11:24:49] WARNING: /workspace/src/objective/regression_obj.cu:152: reg:linear is now deprecated in favor of reg:squarederror.\n",
            "[11:24:49] WARNING: /workspace/src/objective/regression_obj.cu:152: reg:linear is now deprecated in favor of reg:squarederror.\n",
            "[11:24:50] WARNING: /workspace/src/objective/regression_obj.cu:152: reg:linear is now deprecated in favor of reg:squarederror.\n",
            "[11:24:50] WARNING: /workspace/src/objective/regression_obj.cu:152: reg:linear is now deprecated in favor of reg:squarederror.\n",
            "[11:24:50] WARNING: /workspace/src/objective/regression_obj.cu:152: reg:linear is now deprecated in favor of reg:squarederror.\n",
            "[11:24:50] WARNING: /workspace/src/objective/regression_obj.cu:152: reg:linear is now deprecated in favor of reg:squarederror.\n",
            "[11:24:50] WARNING: /workspace/src/objective/regression_obj.cu:152: reg:linear is now deprecated in favor of reg:squarederror.\n",
            "[11:24:50] WARNING: /workspace/src/objective/regression_obj.cu:152: reg:linear is now deprecated in favor of reg:squarederror.\n",
            "[11:24:51] WARNING: /workspace/src/objective/regression_obj.cu:152: reg:linear is now deprecated in favor of reg:squarederror.\n",
            "For XGBoost model:\n",
            "Mean RMSE = 0.247\n",
            "Error std deviation = 0.353\n"
          ],
          "name": "stdout"
        }
      ]
    },
    {
      "cell_type": "code",
      "metadata": {
        "colab": {
          "base_uri": "https://localhost:8080/"
        },
        "id": "XBTVRcDl1sj2",
        "outputId": "5bdd6afa-9073-4154-b90b-a61a02ee157b"
      },
      "source": [
        "# クロスバリデーション\n",
        "# ランダムフォレスト\n",
        "scores = cross_val_score(rf_model, imputed_X, y, scoring='neg_mean_squared_error', \n",
        "                         cv=n_folds)\n",
        "mae_scores = np.sqrt(-scores)\n",
        "\n",
        "print('For Random Forest model:')\n",
        "# print(mae_scores.round(decimals=2))\n",
        "print('Mean RMSE = ' + str(mae_scores.mean().round(decimals=3)))\n",
        "print('Error std deviation = ' +str(mae_scores.std().round(decimals=3)))"
      ],
      "execution_count": null,
      "outputs": [
        {
          "output_type": "stream",
          "text": [
            "For Random Forest model:\n",
            "Mean RMSE = 0.276\n",
            "Error std deviation = 0.354\n"
          ],
          "name": "stdout"
        }
      ]
    },
    {
      "cell_type": "code",
      "metadata": {
        "colab": {
          "base_uri": "https://localhost:8080/"
        },
        "id": "mBAHkrOH1uYw",
        "outputId": "1560f615-7c32-4d56-9aa3-a17952d4e216"
      },
      "source": [
        "# ハイパーパラメータのチューニング\n",
        "# XGBoostでおく\n",
        "from sklearn.model_selection import GridSearchCV\n",
        "\n",
        "# # Tuning XGBoost\n",
        "param_grid = [{'n_estimators': [1000, 1500, 2000], 'learning_rate': [0.005, 0.01, 0.03] }]\n",
        "# #               'max_depth': [3, 6, 9]}]\n",
        "\n",
        "top_reg = XGBRegressor()\n",
        "\n",
        "# -------------------------------------------------------\n",
        "grid_search = GridSearchCV(top_reg, param_grid, cv=5, \n",
        "                           scoring='neg_mean_squared_error')\n",
        "\n",
        "grid_search.fit(imputed_X, y)\n",
        "\n",
        "grid_search.best_params_"
      ],
      "execution_count": null,
      "outputs": [
        {
          "output_type": "stream",
          "text": [
            "[11:29:42] WARNING: /workspace/src/objective/regression_obj.cu:152: reg:linear is now deprecated in favor of reg:squarederror.\n",
            "[11:29:42] WARNING: /workspace/src/objective/regression_obj.cu:152: reg:linear is now deprecated in favor of reg:squarederror.\n",
            "[11:29:42] WARNING: /workspace/src/objective/regression_obj.cu:152: reg:linear is now deprecated in favor of reg:squarederror.\n",
            "[11:29:42] WARNING: /workspace/src/objective/regression_obj.cu:152: reg:linear is now deprecated in favor of reg:squarederror.\n",
            "[11:29:42] WARNING: /workspace/src/objective/regression_obj.cu:152: reg:linear is now deprecated in favor of reg:squarederror.\n",
            "[11:29:42] WARNING: /workspace/src/objective/regression_obj.cu:152: reg:linear is now deprecated in favor of reg:squarederror.\n",
            "[11:29:42] WARNING: /workspace/src/objective/regression_obj.cu:152: reg:linear is now deprecated in favor of reg:squarederror.\n",
            "[11:29:43] WARNING: /workspace/src/objective/regression_obj.cu:152: reg:linear is now deprecated in favor of reg:squarederror.\n",
            "[11:29:43] WARNING: /workspace/src/objective/regression_obj.cu:152: reg:linear is now deprecated in favor of reg:squarederror.\n",
            "[11:29:43] WARNING: /workspace/src/objective/regression_obj.cu:152: reg:linear is now deprecated in favor of reg:squarederror.\n",
            "[11:29:43] WARNING: /workspace/src/objective/regression_obj.cu:152: reg:linear is now deprecated in favor of reg:squarederror.\n",
            "[11:29:43] WARNING: /workspace/src/objective/regression_obj.cu:152: reg:linear is now deprecated in favor of reg:squarederror.\n",
            "[11:29:43] WARNING: /workspace/src/objective/regression_obj.cu:152: reg:linear is now deprecated in favor of reg:squarederror.\n",
            "[11:29:43] WARNING: /workspace/src/objective/regression_obj.cu:152: reg:linear is now deprecated in favor of reg:squarederror.\n",
            "[11:29:44] WARNING: /workspace/src/objective/regression_obj.cu:152: reg:linear is now deprecated in favor of reg:squarederror.\n",
            "[11:29:44] WARNING: /workspace/src/objective/regression_obj.cu:152: reg:linear is now deprecated in favor of reg:squarederror.\n",
            "[11:29:44] WARNING: /workspace/src/objective/regression_obj.cu:152: reg:linear is now deprecated in favor of reg:squarederror.\n",
            "[11:29:44] WARNING: /workspace/src/objective/regression_obj.cu:152: reg:linear is now deprecated in favor of reg:squarederror.\n",
            "[11:29:44] WARNING: /workspace/src/objective/regression_obj.cu:152: reg:linear is now deprecated in favor of reg:squarederror.\n",
            "[11:29:44] WARNING: /workspace/src/objective/regression_obj.cu:152: reg:linear is now deprecated in favor of reg:squarederror.\n",
            "[11:29:44] WARNING: /workspace/src/objective/regression_obj.cu:152: reg:linear is now deprecated in favor of reg:squarederror.\n",
            "[11:29:44] WARNING: /workspace/src/objective/regression_obj.cu:152: reg:linear is now deprecated in favor of reg:squarederror.\n",
            "[11:29:44] WARNING: /workspace/src/objective/regression_obj.cu:152: reg:linear is now deprecated in favor of reg:squarederror.\n",
            "[11:29:44] WARNING: /workspace/src/objective/regression_obj.cu:152: reg:linear is now deprecated in favor of reg:squarederror.\n",
            "[11:29:45] WARNING: /workspace/src/objective/regression_obj.cu:152: reg:linear is now deprecated in favor of reg:squarederror.\n",
            "[11:29:45] WARNING: /workspace/src/objective/regression_obj.cu:152: reg:linear is now deprecated in favor of reg:squarederror.\n",
            "[11:29:45] WARNING: /workspace/src/objective/regression_obj.cu:152: reg:linear is now deprecated in favor of reg:squarederror.\n",
            "[11:29:45] WARNING: /workspace/src/objective/regression_obj.cu:152: reg:linear is now deprecated in favor of reg:squarederror.\n",
            "[11:29:45] WARNING: /workspace/src/objective/regression_obj.cu:152: reg:linear is now deprecated in favor of reg:squarederror.\n",
            "[11:29:45] WARNING: /workspace/src/objective/regression_obj.cu:152: reg:linear is now deprecated in favor of reg:squarederror.\n",
            "[11:29:45] WARNING: /workspace/src/objective/regression_obj.cu:152: reg:linear is now deprecated in favor of reg:squarederror.\n",
            "[11:29:45] WARNING: /workspace/src/objective/regression_obj.cu:152: reg:linear is now deprecated in favor of reg:squarederror.\n",
            "[11:29:46] WARNING: /workspace/src/objective/regression_obj.cu:152: reg:linear is now deprecated in favor of reg:squarederror.\n",
            "[11:29:46] WARNING: /workspace/src/objective/regression_obj.cu:152: reg:linear is now deprecated in favor of reg:squarederror.\n",
            "[11:29:46] WARNING: /workspace/src/objective/regression_obj.cu:152: reg:linear is now deprecated in favor of reg:squarederror.\n",
            "[11:29:46] WARNING: /workspace/src/objective/regression_obj.cu:152: reg:linear is now deprecated in favor of reg:squarederror.\n",
            "[11:29:46] WARNING: /workspace/src/objective/regression_obj.cu:152: reg:linear is now deprecated in favor of reg:squarederror.\n",
            "[11:29:46] WARNING: /workspace/src/objective/regression_obj.cu:152: reg:linear is now deprecated in favor of reg:squarederror.\n",
            "[11:29:46] WARNING: /workspace/src/objective/regression_obj.cu:152: reg:linear is now deprecated in favor of reg:squarederror.\n",
            "[11:29:46] WARNING: /workspace/src/objective/regression_obj.cu:152: reg:linear is now deprecated in favor of reg:squarederror.\n",
            "[11:29:46] WARNING: /workspace/src/objective/regression_obj.cu:152: reg:linear is now deprecated in favor of reg:squarederror.\n",
            "[11:29:46] WARNING: /workspace/src/objective/regression_obj.cu:152: reg:linear is now deprecated in favor of reg:squarederror.\n",
            "[11:29:46] WARNING: /workspace/src/objective/regression_obj.cu:152: reg:linear is now deprecated in favor of reg:squarederror.\n",
            "[11:29:46] WARNING: /workspace/src/objective/regression_obj.cu:152: reg:linear is now deprecated in favor of reg:squarederror.\n",
            "[11:29:47] WARNING: /workspace/src/objective/regression_obj.cu:152: reg:linear is now deprecated in favor of reg:squarederror.\n",
            "[11:29:47] WARNING: /workspace/src/objective/regression_obj.cu:152: reg:linear is now deprecated in favor of reg:squarederror.\n"
          ],
          "name": "stdout"
        },
        {
          "output_type": "execute_result",
          "data": {
            "text/plain": [
              "{'learning_rate': 0.005, 'n_estimators': 1000}"
            ]
          },
          "metadata": {
            "tags": []
          },
          "execution_count": 78
        }
      ]
    },
    {
      "cell_type": "code",
      "metadata": {
        "id": "HzEAnTAAbHnh"
      },
      "source": [
        "# テストデータで検証"
      ],
      "execution_count": null,
      "outputs": []
    }
  ]
}